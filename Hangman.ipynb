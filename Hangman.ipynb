{
  "nbformat": 4,
  "nbformat_minor": 0,
  "metadata": {
    "colab": {
      "provenance": []
    },
    "kernelspec": {
      "name": "python3",
      "display_name": "Python 3"
    },
    "language_info": {
      "name": "python"
    }
  },
  "cells": [
    {
      "cell_type": "code",
      "execution_count": 4,
      "metadata": {
        "colab": {
          "base_uri": "https://localhost:8080/"
        },
        "id": "1RyLHKOgGEyQ",
        "outputId": "bd025f97-c996-4c81-81f8-a4febb394724"
      },
      "outputs": [
        {
          "output_type": "stream",
          "name": "stdout",
          "text": [
            "______\n",
            "Allowed Errors Left 6, Next Guess: L\n",
            "L_____\n",
            "Allowed Errors Left 6, Next Guess: A\n",
            "La____\n",
            "Allowed Errors Left 6, Next Guess: U\n",
            "Lau___\n",
            "Allowed Errors Left 6, Next Guess: R\n",
            "Laur__\n",
            "Allowed Errors Left 6, Next Guess: E\n",
            "Laure_\n",
            "Allowed Errors Left 6, Next Guess: N\n",
            "Congrats! It was Lauren!\n"
          ]
        }
      ],
      "source": [
        "word = \"Lauren\"\n",
        "\n",
        "allowed_errors = 6\n",
        "guesses = []\n",
        "done = False\n",
        "while not done:\n",
        "    for letter in word:\n",
        "        if letter.lower() in guesses:\n",
        "            print(letter, end=\"\")\n",
        "        else:\n",
        "            print(\"_\", end=\"\")\n",
        "    print(\"\")\n",
        "    done = True\n",
        "\n",
        "    guess = input(f\"Allowed Errors Left {allowed_errors}, Next Guess: \")\n",
        "    guesses.append(guess.lower())\n",
        "    if guess.lower() not in word.lower():\n",
        "        allowed_errors -= 1\n",
        "        if allowed_errors == 0:\n",
        "            break\n",
        "\n",
        "    done = True\n",
        "    for letter in word:\n",
        "        if letter.lower() not in guesses:\n",
        "            done = False\n",
        "\n",
        "if done:\n",
        "    print(f\"Congrats! It was {word}!\")\n",
        "else:\n",
        "    print(f\"Game over!\")"
      ]
    }
  ]
}